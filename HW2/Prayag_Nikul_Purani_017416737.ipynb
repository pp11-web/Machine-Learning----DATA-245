{
 "cells": [
  {
   "cell_type": "code",
   "execution_count": 2,
   "id": "cf73fb21",
   "metadata": {},
   "outputs": [],
   "source": [
    "import numpy as np\n",
    "import matplotlib.pyplot as plt\n",
    "from sklearn.model_selection import GridSearchCV\n",
    "from sklearn.datasets import load_iris\n",
    "from sklearn.model_selection import train_test_split\n",
    "from sklearn.tree import DecisionTreeClassifier\n",
    "from sklearn.ensemble import RandomForestClassifier, AdaBoostClassifier, GradientBoostingClassifier\n",
    "from sklearn.metrics import accuracy_score\n",
    "from sklearn.model_selection import cross_val_score\n",
    "from mlxtend.plotting import plot_decision_regions\n",
    "from itertools import combinations\n",
    "from sklearn.decomposition import PCA"
   ]
  },
  {
   "cell_type": "code",
   "execution_count": 3,
   "id": "d3ab78c0",
   "metadata": {},
   "outputs": [],
   "source": [
    "# Load the Iris dataset\n",
    "iris = load_iris()\n",
    "X, y = iris.data, iris.target"
   ]
  },
  {
   "cell_type": "code",
   "execution_count": 4,
   "id": "3d4372bf",
   "metadata": {},
   "outputs": [],
   "source": [
    "# Split the dataset into training and testing sets\n",
    "X_train, X_test, y_train, y_test = train_test_split(X, y, test_size=0.2, random_state=42)\n"
   ]
  },
  {
   "cell_type": "code",
   "execution_count": 5,
   "id": "b45044e7",
   "metadata": {},
   "outputs": [
    {
     "name": "stdout",
     "output_type": "stream",
     "text": [
      "Decision Tree Accuracy: 1.0000\n"
     ]
    }
   ],
   "source": [
    "# Decision Tree Classifier\n",
    "dt_classifier = DecisionTreeClassifier(random_state=42)\n",
    "dt_classifier.fit(X_train, y_train)\n",
    "dt_predictions = dt_classifier.predict(X_test)\n",
    "dt_accuracy = accuracy_score(y_test, dt_predictions)\n",
    "print(f\"Decision Tree Accuracy: {dt_accuracy:.4f}\")"
   ]
  },
  {
   "cell_type": "code",
   "execution_count": 6,
   "id": "44454df7",
   "metadata": {},
   "outputs": [
    {
     "name": "stdout",
     "output_type": "stream",
     "text": [
      "Random Forest Accuracy: 1.0000\n",
      "Best Random Forest Parameters: {'max_depth': None, 'n_estimators': 150}\n"
     ]
    }
   ],
   "source": [
    "# Random Forest Classifier\n",
    "rf_param_grid = {'n_estimators': [50, 100, 150], 'max_depth': [None, 10, 20]}\n",
    "rf_grid_search = GridSearchCV(RandomForestClassifier(random_state=42), param_grid=rf_param_grid, cv=5)\n",
    "rf_grid_search.fit(X_train, y_train)\n",
    "rf_classifier = rf_grid_search.best_estimator_\n",
    "rf_predictions = rf_classifier.predict(X_test)\n",
    "rf_accuracy = accuracy_score(y_test, rf_predictions)\n",
    "print(f\"Random Forest Accuracy: {rf_accuracy:.4f}\")\n",
    "print(\"Best Random Forest Parameters:\", rf_grid_search.best_params_)\n"
   ]
  },
  {
   "cell_type": "code",
   "execution_count": 7,
   "id": "c5298cc6",
   "metadata": {},
   "outputs": [
    {
     "name": "stdout",
     "output_type": "stream",
     "text": [
      "AdaBoost Accuracy: 1.0000\n",
      "Best AdaBoost Parameters: {'learning_rate': 0.01, 'n_estimators': 50}\n"
     ]
    }
   ],
   "source": [
    "# AdaBoost Classifier\n",
    "adaboost_param_grid = {'n_estimators': [50, 100, 150], 'learning_rate': [0.01, 0.1, 1.0]}\n",
    "adaboost_grid_search = GridSearchCV(AdaBoostClassifier(base_estimator=DecisionTreeClassifier(random_state=42), random_state=42), param_grid=adaboost_param_grid, cv=5)\n",
    "adaboost_grid_search.fit(X_train, y_train)\n",
    "adaboost_classifier = adaboost_grid_search.best_estimator_\n",
    "adaboost_predictions = adaboost_classifier.predict(X_test)\n",
    "adaboost_accuracy = accuracy_score(y_test, adaboost_predictions)\n",
    "print(f\"AdaBoost Accuracy: {adaboost_accuracy:.4f}\")\n",
    "print(\"Best AdaBoost Parameters:\", adaboost_grid_search.best_params_)"
   ]
  },
  {
   "cell_type": "code",
   "execution_count": 8,
   "id": "01e282bc",
   "metadata": {},
   "outputs": [
    {
     "name": "stdout",
     "output_type": "stream",
     "text": [
      "Gradient Boosting Accuracy: 1.0000\n",
      "Best Gradient Boosting Parameters: {'learning_rate': 0.01, 'max_depth': 3, 'n_estimators': 50}\n"
     ]
    }
   ],
   "source": [
    "# Gradient Boosting Classifier\n",
    "gb_param_grid = {'n_estimators': [50, 100, 150], 'learning_rate': [0.01, 0.1, 0.2], 'max_depth': [3, 5, 7]}\n",
    "gb_grid_search = GridSearchCV(GradientBoostingClassifier(random_state=42), param_grid=gb_param_grid, cv=5)\n",
    "gb_grid_search.fit(X_train, y_train)\n",
    "gb_classifier = gb_grid_search.best_estimator_\n",
    "gb_predictions = gb_classifier.predict(X_test)\n",
    "gb_accuracy = accuracy_score(y_test, gb_predictions)\n",
    "print(f\"Gradient Boosting Accuracy: {gb_accuracy:.4f}\")\n",
    "print(\"Best Gradient Boosting Parameters:\", gb_grid_search.best_params_)"
   ]
  },
  {
   "cell_type": "code",
   "execution_count": 9,
   "id": "8be7c095",
   "metadata": {},
   "outputs": [],
   "source": [
    "# Cross-validation scores\n",
    "dt_cv_scores = cross_val_score(dt_classifier, X, y, cv=5)\n",
    "rf_cv_scores = cross_val_score(rf_classifier, X, y, cv=5)\n",
    "adaboost_cv_scores = cross_val_score(adaboost_classifier, X, y, cv=5)\n",
    "gb_cv_scores = cross_val_score(gb_classifier, X, y, cv=5)"
   ]
  },
  {
   "cell_type": "code",
   "execution_count": 10,
   "id": "ff164fca",
   "metadata": {},
   "outputs": [
    {
     "name": "stdout",
     "output_type": "stream",
     "text": [
      "Cross-validation scores:\n",
      "Decision Tree: 0.9533\n",
      "Random Forest: 0.9667\n",
      "AdaBoost: 0.9533\n",
      "Gradient Boosting: 0.9600\n"
     ]
    }
   ],
   "source": [
    "print(\"Cross-validation scores:\")\n",
    "print(f\"Decision Tree: {np.mean(dt_cv_scores):.4f}\")\n",
    "print(f\"Random Forest: {np.mean(rf_cv_scores):.4f}\")\n",
    "print(f\"AdaBoost: {np.mean(adaboost_cv_scores):.4f}\")\n",
    "print(f\"Gradient Boosting: {np.mean(gb_cv_scores):.4f}\")"
   ]
  },
  {
   "cell_type": "code",
   "execution_count": 11,
   "id": "2bb36eb8",
   "metadata": {},
   "outputs": [],
   "source": [
    "from sklearn.metrics import confusion_matrix\n",
    "import seaborn as sns\n",
    "import pandas as pd\n",
    "\n",
    "# Function to plot confusion matrix\n",
    "def plot_confusion_matrix(y_true, y_pred, title):\n",
    "    cm = confusion_matrix(y_true, y_pred)\n",
    "    plt.figure(figsize=(5, 4))\n",
    "    sns.heatmap(cm, annot=True, fmt=\"d\", cmap=\"Blues\", xticklabels=iris.target_names, yticklabels=iris.target_names)\n",
    "    plt.title(title)\n",
    "    plt.xlabel('Predicted Label')\n",
    "    plt.ylabel('True Label')\n",
    "    plt.show()"
   ]
  },
  {
   "cell_type": "code",
   "execution_count": 12,
   "id": "7803d295",
   "metadata": {},
   "outputs": [
    {
     "data": {
      "image/png": "[encoded data removed]",
      "text/plain": [
       "<Figure size 360x288 with 2 Axes>"
      ]
     },
     "metadata": {
      "needs_background": "light"
     },
     "output_type": "display_data"
    }
   ],
   "source": [
    "# Decision Tree\n",
    "plot_confusion_matrix(y_test, dt_predictions, title='Decision Tree Confusion Matrix')"
   ]
  },
  {
   "cell_type": "code",
   "execution_count": 13,
   "id": "7e85409a",
   "metadata": {},
   "outputs": [
    {
     "data": {
      "image/png": "[encoded data removed]",
      "text/plain": [
       "<Figure size 360x288 with 2 Axes>"
      ]
     },
     "metadata": {
      "needs_background": "light"
     },
     "output_type": "display_data"
    }
   ],
   "source": [
    "# Random Forest\n",
    "plot_confusion_matrix(y_test, rf_predictions, title='Random Forest Confusion Matrix')"
   ]
  },
  {
   "cell_type": "code",
   "execution_count": 14,
   "id": "3056363d",
   "metadata": {},
   "outputs": [
    {
     "data": {
      "image/png": "[encoded data removed]",
      "text/plain": [
       "<Figure size 360x288 with 2 Axes>"
      ]
     },
     "metadata": {
      "needs_background": "light"
     },
     "output_type": "display_data"
    }
   ],
   "source": [
    "# AdaBoost\n",
    "plot_confusion_matrix(y_test, adaboost_predictions, title='AdaBoost Confusion Matrix')"
   ]
  },
  {
   "cell_type": "code",
   "execution_count": 15,
   "id": "57001cd1",
   "metadata": {},
   "outputs": [
    {
     "data": {
      "image/png": "[encoded data removed]",
      "text/plain": [
       "<Figure size 360x288 with 2 Axes>"
      ]
     },
     "metadata": {
      "needs_background": "light"
     },
     "output_type": "display_data"
    }
   ],
   "source": [
    "# Gradient Boosting\n",
    "plot_confusion_matrix(y_test, gb_predictions, title='Gradient Boosting Confusion Matrix')"
   ]
  },
  {
   "cell_type": "code",
   "execution_count": 16,
   "id": "2a8a6a1e",
   "metadata": {},
   "outputs": [],
   "source": [
    "from sklearn.metrics import accuracy_score, precision_score, recall_score, f1_score\n",
    "\n",
    "# Function to evaluate classifier performance and print metrics\n",
    "def evaluate_classifier_performance(y_true, y_pred, classifier_name):\n",
    "    accuracy = accuracy_score(y_true, y_pred)\n",
    "    precision = precision_score(y_true, y_pred, average='weighted')\n",
    "    recall = recall_score(y_true, y_pred, average='weighted')\n",
    "    f1 = f1_score(y_true, y_pred, average='weighted')\n",
    "\n",
    "    print(f\"{classifier_name} Metrics:\")\n",
    "    print(f\"Accuracy: {accuracy:.4f}\")\n",
    "    print(f\"Precision: {precision:.4f}\")\n",
    "    print(f\"Recall: {recall:.4f}\")\n",
    "    print(f\"F1 Score: {f1:.4f}\")\n",
    "    print(\"\\n\")"
   ]
  },
  {
   "cell_type": "code",
   "execution_count": 17,
   "id": "c8e45a48",
   "metadata": {},
   "outputs": [
    {
     "name": "stdout",
     "output_type": "stream",
     "text": [
      "Decision Tree Metrics:\n",
      "Accuracy: 1.0000\n",
      "Precision: 1.0000\n",
      "Recall: 1.0000\n",
      "F1 Score: 1.0000\n",
      "\n",
      "\n"
     ]
    }
   ],
   "source": [
    "# Evaluate Decision Tree performance\n",
    "evaluate_classifier_performance(y_test, dt_predictions, \"Decision Tree\")"
   ]
  },
  {
   "cell_type": "code",
   "execution_count": 18,
   "id": "c4cd434f",
   "metadata": {},
   "outputs": [
    {
     "name": "stdout",
     "output_type": "stream",
     "text": [
      "Random Forest Metrics:\n",
      "Accuracy: 1.0000\n",
      "Precision: 1.0000\n",
      "Recall: 1.0000\n",
      "F1 Score: 1.0000\n",
      "\n",
      "\n"
     ]
    }
   ],
   "source": [
    "# Evaluate Random Forest performance\n",
    "evaluate_classifier_performance(y_test, rf_predictions, \"Random Forest\")"
   ]
  },
  {
   "cell_type": "code",
   "execution_count": 19,
   "id": "ff786b26",
   "metadata": {},
   "outputs": [
    {
     "name": "stdout",
     "output_type": "stream",
     "text": [
      "AdaBoost Metrics:\n",
      "Accuracy: 1.0000\n",
      "Precision: 1.0000\n",
      "Recall: 1.0000\n",
      "F1 Score: 1.0000\n",
      "\n",
      "\n"
     ]
    }
   ],
   "source": [
    "# Evaluate AdaBoost performance\n",
    "evaluate_classifier_performance(y_test, adaboost_predictions, \"AdaBoost\")"
   ]
  },
  {
   "cell_type": "code",
   "execution_count": 20,
   "id": "5b0204c0",
   "metadata": {},
   "outputs": [
    {
     "name": "stdout",
     "output_type": "stream",
     "text": [
      "Gradient Boosting Metrics:\n",
      "Accuracy: 1.0000\n",
      "Precision: 1.0000\n",
      "Recall: 1.0000\n",
      "F1 Score: 1.0000\n",
      "\n",
      "\n"
     ]
    }
   ],
   "source": [
    "# Evaluate Gradient Boosting performance\n",
    "evaluate_classifier_performance(y_test, gb_predictions, \"Gradient Boosting\")"
   ]
  },
  {
   "cell_type": "code",
   "execution_count": 21,
   "id": "c8b481db",
   "metadata": {},
   "outputs": [
    {
     "name": "stdout",
     "output_type": "stream",
     "text": [
      "Unique classes in y_test: [0 1 2]\n",
      "y_test: [1 0 2 1 1 0 1 2 1 1]\n",
      "dt_predictions: [1 0 2 1 1 0 1 2 1 1]\n",
      "rf_predictions: [1 0 2 1 1 0 1 2 1 1]\n",
      "adaboost_predictions: [1 0 2 1 1 0 1 2 1 1]\n",
      "gb_predictions: [1 0 2 1 1 0 1 2 1 1]\n"
     ]
    }
   ],
   "source": [
    "# Additional checks\n",
    "# 1. Display the unique values in your test labels to ensure it has more than one class.\n",
    "print(\"Unique classes in y_test:\", np.unique(y_test))\n",
    "\n",
    "# 2. Print the first few elements of your y_test and predictions arrays for manual inspection.\n",
    "print(\"y_test:\", y_test[:10])\n",
    "print(\"dt_predictions:\", dt_predictions[:10])\n",
    "print(\"rf_predictions:\", rf_predictions[:10])\n",
    "print(\"adaboost_predictions:\", adaboost_predictions[:10])\n",
    "print(\"gb_predictions:\", gb_predictions[:10])"
   ]
  },
  {
   "cell_type": "code",
   "execution_count": null,
   "id": "3120b493",
   "metadata": {},
   "outputs": [],
   "source": []
  }
 ],
 "metadata": {
  "kernelspec": {
   "display_name": "Python 3 (ipykernel)",
   "language": "python",
   "name": "python3"
  },
  "language_info": {
   "codemirror_mode": {
    "name": "ipython",
    "version": 3
   },
   "file_extension": ".py",
   "mimetype": "text/x-python",
   "name": "python",
   "nbconvert_exporter": "python",
   "pygments_lexer": "ipython3",
   "version": "3.9.12"
  }
 },
 "nbformat": 4,
 "nbformat_minor": 5
}
